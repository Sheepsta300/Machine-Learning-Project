{
 "cells": [
  {
   "cell_type": "code",
   "execution_count": 2,
   "metadata": {},
   "outputs": [
    {
     "name": "stderr",
     "output_type": "stream",
     "text": [
      "Matplotlib is building the font cache; this may take a moment.\n"
     ]
    }
   ],
   "source": [
    "import pandas as pd\n",
    "import numpy as np\n",
    "import matplotlib.pyplot as plt\n",
    "from sklearn.metrics import mean_squared_error, mean_absolute_error, median_absolute_error, root_mean_squared_error\n",
    "from sklearn.model_selection import train_test_split\n",
    "from sklearn.metrics import accuracy_score\n",
    "from sagemaker.image_uris import retrieve\n",
    "from sagemaker.predictor import Predictor\n",
    "from sagemaker import image_uris\n",
    "import boto3\n",
    "import io\n",
    "import os\n",
    "import sagemaker"
   ]
  },
  {
   "cell_type": "code",
   "execution_count": 3,
   "metadata": {},
   "outputs": [],
   "source": [
    "nelson = pd.read_csv('datasets/regional/Nelson.csv',index_col=False)"
   ]
  },
  {
   "cell_type": "code",
   "execution_count": 4,
   "metadata": {},
   "outputs": [
    {
     "data": {
      "text/html": [
       "<div>\n",
       "<style scoped>\n",
       "    .dataframe tbody tr th:only-of-type {\n",
       "        vertical-align: middle;\n",
       "    }\n",
       "\n",
       "    .dataframe tbody tr th {\n",
       "        vertical-align: top;\n",
       "    }\n",
       "\n",
       "    .dataframe thead th {\n",
       "        text-align: right;\n",
       "    }\n",
       "</style>\n",
       "<table border=\"1\" class=\"dataframe\">\n",
       "  <thead>\n",
       "    <tr style=\"text-align: right;\">\n",
       "      <th></th>\n",
       "      <th>Nelson</th>\n",
       "      <th>lagged</th>\n",
       "    </tr>\n",
       "    <tr>\n",
       "      <th>date</th>\n",
       "      <th></th>\n",
       "      <th></th>\n",
       "    </tr>\n",
       "  </thead>\n",
       "  <tbody>\n",
       "    <tr>\n",
       "      <th>1992-01-31</th>\n",
       "      <td>115000.0</td>\n",
       "      <td>NaN</td>\n",
       "    </tr>\n",
       "    <tr>\n",
       "      <th>1992-02-29</th>\n",
       "      <td>108000.0</td>\n",
       "      <td>115000.0</td>\n",
       "    </tr>\n",
       "    <tr>\n",
       "      <th>1992-03-31</th>\n",
       "      <td>115000.0</td>\n",
       "      <td>108000.0</td>\n",
       "    </tr>\n",
       "    <tr>\n",
       "      <th>1992-04-30</th>\n",
       "      <td>116000.0</td>\n",
       "      <td>115000.0</td>\n",
       "    </tr>\n",
       "    <tr>\n",
       "      <th>1992-05-31</th>\n",
       "      <td>115000.0</td>\n",
       "      <td>116000.0</td>\n",
       "    </tr>\n",
       "  </tbody>\n",
       "</table>\n",
       "</div>"
      ],
      "text/plain": [
       "              Nelson    lagged\n",
       "date                          \n",
       "1992-01-31  115000.0       NaN\n",
       "1992-02-29  108000.0  115000.0\n",
       "1992-03-31  115000.0  108000.0\n",
       "1992-04-30  116000.0  115000.0\n",
       "1992-05-31  115000.0  116000.0"
      ]
     },
     "execution_count": 4,
     "metadata": {},
     "output_type": "execute_result"
    }
   ],
   "source": [
    "nelson.index = nelson.date\n",
    "nelson.index = pd.to_datetime(nelson.index)\n",
    "nelson = nelson[['Nelson', 'lagged']]\n",
    "nelson.head(5)"
   ]
  },
  {
   "cell_type": "markdown",
   "metadata": {},
   "source": [
    "---"
   ]
  },
  {
   "cell_type": "markdown",
   "metadata": {},
   "source": [
    "## AWS"
   ]
  },
  {
   "cell_type": "markdown",
   "metadata": {},
   "source": [
    "### Using DeepAR"
   ]
  },
  {
   "cell_type": "markdown",
   "metadata": {},
   "source": [
    "The data will be converted first to quarterly data as DeepAR uses multiple data points per timestep i.e, if using weekly timesteps, daily data per timestep is required. In this case we will use three months of data (3 values) per timestep (quarter)."
   ]
  },
  {
   "cell_type": "code",
   "execution_count": 70,
   "metadata": {},
   "outputs": [],
   "source": [
    "def months_to_quarters(df):\n",
    "    \n",
    "    df = df[:-2][['Nelson']]\n",
    "    df.rename(columns={'Nelson':'First_Month'}, inplace=True)\n",
    "    df['Second_Month'] = None\n",
    "    df['Third_Month'] = None\n",
    "    for i in range(2, len(df), 3):\n",
    "        s_month = df.loc[df.index[i-1],\"First_Month\"]\n",
    "        f_month = df.loc[df.index[i-2],\"First_Month\"]\n",
    "        df.loc[df.index[i], \"Third_Month\"] = df.loc[df.index[i], \"First_Month\"]\n",
    "        df.loc[df.index[i], \"Second_Month\"] = s_month\n",
    "        df.loc[df.index[i], \"First_Month\"] = f_month\n",
    "    return df.dropna()"
   ]
  },
  {
   "cell_type": "code",
   "execution_count": 71,
   "metadata": {},
   "outputs": [],
   "source": [
    "nelson_qrtly = months_to_quarters(nelson.copy())"
   ]
  },
  {
   "cell_type": "code",
   "execution_count": 72,
   "metadata": {},
   "outputs": [
    {
     "data": {
      "text/html": [
       "<div>\n",
       "<style scoped>\n",
       "    .dataframe tbody tr th:only-of-type {\n",
       "        vertical-align: middle;\n",
       "    }\n",
       "\n",
       "    .dataframe tbody tr th {\n",
       "        vertical-align: top;\n",
       "    }\n",
       "\n",
       "    .dataframe thead th {\n",
       "        text-align: right;\n",
       "    }\n",
       "</style>\n",
       "<table border=\"1\" class=\"dataframe\">\n",
       "  <thead>\n",
       "    <tr style=\"text-align: right;\">\n",
       "      <th></th>\n",
       "      <th>First_Month</th>\n",
       "      <th>Second_Month</th>\n",
       "      <th>Third_Month</th>\n",
       "    </tr>\n",
       "    <tr>\n",
       "      <th>date</th>\n",
       "      <th></th>\n",
       "      <th></th>\n",
       "      <th></th>\n",
       "    </tr>\n",
       "  </thead>\n",
       "  <tbody>\n",
       "    <tr>\n",
       "      <th>1992-03-31</th>\n",
       "      <td>115000.0</td>\n",
       "      <td>108000.0</td>\n",
       "      <td>115000.0</td>\n",
       "    </tr>\n",
       "    <tr>\n",
       "      <th>1992-06-30</th>\n",
       "      <td>116000.0</td>\n",
       "      <td>115000.0</td>\n",
       "      <td>107000.0</td>\n",
       "    </tr>\n",
       "    <tr>\n",
       "      <th>1992-09-30</th>\n",
       "      <td>118000.0</td>\n",
       "      <td>116000.0</td>\n",
       "      <td>120000.0</td>\n",
       "    </tr>\n",
       "    <tr>\n",
       "      <th>1992-12-31</th>\n",
       "      <td>115000.0</td>\n",
       "      <td>122500.0</td>\n",
       "      <td>124000.0</td>\n",
       "    </tr>\n",
       "    <tr>\n",
       "      <th>1993-03-31</th>\n",
       "      <td>120000.0</td>\n",
       "      <td>125000.0</td>\n",
       "      <td>126000.0</td>\n",
       "    </tr>\n",
       "    <tr>\n",
       "      <th>...</th>\n",
       "      <td>...</td>\n",
       "      <td>...</td>\n",
       "      <td>...</td>\n",
       "    </tr>\n",
       "    <tr>\n",
       "      <th>2023-06-30</th>\n",
       "      <td>720000.0</td>\n",
       "      <td>770000.0</td>\n",
       "      <td>650000.0</td>\n",
       "    </tr>\n",
       "    <tr>\n",
       "      <th>2023-09-30</th>\n",
       "      <td>710000.0</td>\n",
       "      <td>695000.0</td>\n",
       "      <td>680000.0</td>\n",
       "    </tr>\n",
       "    <tr>\n",
       "      <th>2023-12-31</th>\n",
       "      <td>670500.0</td>\n",
       "      <td>650000.0</td>\n",
       "      <td>710000.0</td>\n",
       "    </tr>\n",
       "    <tr>\n",
       "      <th>2024-03-31</th>\n",
       "      <td>675000.0</td>\n",
       "      <td>732500.0</td>\n",
       "      <td>722000.0</td>\n",
       "    </tr>\n",
       "    <tr>\n",
       "      <th>2024-06-30</th>\n",
       "      <td>705000.0</td>\n",
       "      <td>670000.0</td>\n",
       "      <td>648000.0</td>\n",
       "    </tr>\n",
       "  </tbody>\n",
       "</table>\n",
       "<p>130 rows × 3 columns</p>\n",
       "</div>"
      ],
      "text/plain": [
       "            First_Month Second_Month Third_Month\n",
       "date                                            \n",
       "1992-03-31     115000.0     108000.0    115000.0\n",
       "1992-06-30     116000.0     115000.0    107000.0\n",
       "1992-09-30     118000.0     116000.0    120000.0\n",
       "1992-12-31     115000.0     122500.0    124000.0\n",
       "1993-03-31     120000.0     125000.0    126000.0\n",
       "...                 ...          ...         ...\n",
       "2023-06-30     720000.0     770000.0    650000.0\n",
       "2023-09-30     710000.0     695000.0    680000.0\n",
       "2023-12-31     670500.0     650000.0    710000.0\n",
       "2024-03-31     675000.0     732500.0    722000.0\n",
       "2024-06-30     705000.0     670000.0    648000.0\n",
       "\n",
       "[130 rows x 3 columns]"
      ]
     },
     "execution_count": 72,
     "metadata": {},
     "output_type": "execute_result"
    }
   ],
   "source": [
    "nelson_qrtly"
   ]
  },
  {
   "cell_type": "code",
   "execution_count": 74,
   "metadata": {},
   "outputs": [],
   "source": [
    "train, test_and_validate = train_test_split(nelson_qrtly, \n",
    "                                            test_size=0.2, \n",
    "                                            random_state=42)\n",
    "\n",
    "train_test, validate = train_test_split(test_and_validate, \n",
    "                                  test_size=0.5, \n",
    "                                  random_state=42)"
   ]
  },
  {
   "cell_type": "code",
   "execution_count": 75,
   "metadata": {},
   "outputs": [],
   "source": [
    "bucket='c125236a3097401l7344380t1w4575200910-sandboxbucket-6het1vfa8iyd'\n",
    "prefix='assignment3'\n",
    "train_file='train.json'\n",
    "test_file='test.json'\n",
    "validate_file='validate.json'\n",
    "whole_file='whole.json'\n",
    "s3_resource = boto3.Session().resource('s3')"
   ]
  },
  {
   "cell_type": "code",
   "execution_count": 81,
   "metadata": {},
   "outputs": [],
   "source": [
    "import json\n",
    "import io\n",
    "\n",
    "def upload_s3_json(filename, folder, dataframe):\n",
    "    dates = [date.isoformat() for date in dataframe.index]\n",
    "    data = ''\n",
    "    for i in range(len(dataframe)):\n",
    "        temp = {}\n",
    "        temp[\"start\"] = dates[i]\n",
    "        temp[\"target\"] = [val for val in dataframe.iloc[i].values]\n",
    "        data += f'{json.dumps(temp)}\\n'\n",
    "    bytes_data = io.BytesIO(data.encode(\"utf-8\"))\n",
    "    s3_resource.Bucket(bucket).Object(os.path.join(prefix, folder, filename)).put(Body= bytes_data)\n",
    "\n",
    "upload_s3_json(train_file, 'train', train)\n",
    "upload_s3_json(test_file, 'test', train_test)\n",
    "upload_s3_json(validate_file, 'validate', validate)"
   ]
  },
  {
   "cell_type": "code",
   "execution_count": 85,
   "metadata": {},
   "outputs": [],
   "source": [
    "role=sagemaker.get_execution_role()\n",
    "s3_output_location=\"s3://{}/{}/output/\".format(bucket,prefix)\n",
    "container = image_uris.retrieve(framework='forecasting-deepar', region=boto3.Session().region_name)"
   ]
  },
  {
   "cell_type": "code",
   "execution_count": 86,
   "metadata": {},
   "outputs": [
    {
     "data": {
      "text/plain": [
       "'522234722520.dkr.ecr.us-east-1.amazonaws.com/forecasting-deepar:1'"
      ]
     },
     "execution_count": 86,
     "metadata": {},
     "output_type": "execute_result"
    }
   ],
   "source": [
    "container"
   ]
  },
  {
   "cell_type": "code",
   "execution_count": 91,
   "metadata": {},
   "outputs": [],
   "source": [
    "hyperparams={\n",
    "    \"time_freq\":\"3M\",\n",
    "    \"context_length\":\"1\",\n",
    "    \"prediction_length\":\"2\",\n",
    "    \"epochs\":\"100\"}"
   ]
  },
  {
   "cell_type": "code",
   "execution_count": 92,
   "metadata": {},
   "outputs": [],
   "source": [
    "deep_ar=sagemaker.estimator.Estimator(container,\n",
    "                                        role,\n",
    "                                        instance_count=1,\n",
    "                                        instance_type='ml.m5.xlarge',\n",
    "                                        output_path=s3_output_location,\n",
    "                                        hyperparameters=hyperparams,\n",
    "                                        sagemaker_session=sagemaker.Session())"
   ]
  },
  {
   "cell_type": "code",
   "execution_count": 93,
   "metadata": {},
   "outputs": [],
   "source": [
    "train_channel = sagemaker.inputs.TrainingInput(\n",
    "    \"s3://{}/{}/train/\".format(bucket,prefix,train_file),\n",
    "    content_type='json')\n",
    "\n",
    "validate_channel = sagemaker.inputs.TrainingInput(\n",
    "    \"s3://{}/{}/validate/\".format(bucket,prefix,validate_file),\n",
    "    content_type='json')\n",
    "\n",
    "data_channels = {'train': train_channel, 'test': validate_channel}"
   ]
  },
  {
   "cell_type": "code",
   "execution_count": 95,
   "metadata": {},
   "outputs": [
    {
     "name": "stderr",
     "output_type": "stream",
     "text": [
      "INFO:sagemaker:Creating training-job with name: forecasting-deepar-2024-10-09-23-43-43-157\n"
     ]
    },
    {
     "name": "stdout",
     "output_type": "stream",
     "text": [
      "\n",
      "2024-10-09 23:43:45 Starting - Starting the training job..\n",
      "2024-10-09 23:44:02 Starting - Preparing the instances for training....\n",
      "2024-10-09 23:44:28 Downloading - Downloading input data.....\n",
      "2024-10-09 23:44:54 Downloading - Downloading the training image.............\n",
      "2024-10-09 23:46:05 Training - Training image download completed. Training in progress............\n",
      "2024-10-09 23:47:05 Uploading - Uploading generated training model\n",
      "2024-10-09 23:47:13 Completed - Training job completed\n"
     ]
    }
   ],
   "source": [
    "deep_ar.fit(inputs=data_channels, logs=False)"
   ]
  },
  {
   "cell_type": "code",
   "execution_count": 97,
   "metadata": {},
   "outputs": [
    {
     "data": {
      "text/html": [
       "<div>\n",
       "<style scoped>\n",
       "    .dataframe tbody tr th:only-of-type {\n",
       "        vertical-align: middle;\n",
       "    }\n",
       "\n",
       "    .dataframe tbody tr th {\n",
       "        vertical-align: top;\n",
       "    }\n",
       "\n",
       "    .dataframe thead th {\n",
       "        text-align: right;\n",
       "    }\n",
       "</style>\n",
       "<table border=\"1\" class=\"dataframe\">\n",
       "  <thead>\n",
       "    <tr style=\"text-align: right;\">\n",
       "      <th></th>\n",
       "      <th>First_Month</th>\n",
       "      <th>Second_Month</th>\n",
       "      <th>Third_Month</th>\n",
       "    </tr>\n",
       "    <tr>\n",
       "      <th>date</th>\n",
       "      <th></th>\n",
       "      <th></th>\n",
       "      <th></th>\n",
       "    </tr>\n",
       "  </thead>\n",
       "  <tbody>\n",
       "    <tr>\n",
       "      <th>2024-06-30</th>\n",
       "      <td>705000.0</td>\n",
       "      <td>670000.0</td>\n",
       "      <td>648000.0</td>\n",
       "    </tr>\n",
       "  </tbody>\n",
       "</table>\n",
       "</div>"
      ],
      "text/plain": [
       "            First_Month Second_Month Third_Month\n",
       "date                                            \n",
       "2024-06-30     705000.0     670000.0    648000.0"
      ]
     },
     "execution_count": 97,
     "metadata": {},
     "output_type": "execute_result"
    }
   ],
   "source": [
    "nelson_qrtly[-1:]"
   ]
  },
  {
   "cell_type": "code",
   "execution_count": 98,
   "metadata": {},
   "outputs": [],
   "source": [
    "sagemaker_session = sagemaker.Session()\n",
    "predictor = Predictor(endpoint_name='deep-ar-100', sagemaker_session=sagemaker_session)"
   ]
  },
  {
   "cell_type": "code",
   "execution_count": 100,
   "metadata": {},
   "outputs": [],
   "source": [
    "data = {\n",
    "    \"instances\": [\n",
    "        {\n",
    "            \"start\": \"2024-06-30 00:00:00\",\n",
    "            \"target\": [705000.0, 670000.0, 648000.0],\n",
    "        }\n",
    "    ],\n",
    "    \"configuration\": {\n",
    "        \"num_samples\": 100,\n",
    "        \"output_types\": [\"mean\", \"quantiles\"],\n",
    "        \"quantiles\": [\"0.1\", \"0.5\", \"0.9\"]\n",
    "    }\n",
    "}\n",
    "\n",
    "payload = json.dumps(data)\n",
    "response = predictor.predict(payload, initial_args={\"ContentType\": \"application/json\"})"
   ]
  },
  {
   "cell_type": "code",
   "execution_count": 102,
   "metadata": {},
   "outputs": [],
   "source": [
    "result = json.loads(response.decode('utf-8'))"
   ]
  },
  {
   "cell_type": "code",
   "execution_count": 107,
   "metadata": {},
   "outputs": [
    {
     "data": {
      "text/plain": [
       "{'predictions': [{'mean': [617007.875, 600444.5],\n",
       "   'quantiles': {'0.1': [556193.75, 543589.6875],\n",
       "    '0.5': [621433.5, 596463.375],\n",
       "    '0.9': [675815.125, 662208.0]}}]}"
      ]
     },
     "execution_count": 107,
     "metadata": {},
     "output_type": "execute_result"
    }
   ],
   "source": [
    "result"
   ]
  },
  {
   "cell_type": "code",
   "execution_count": 152,
   "metadata": {},
   "outputs": [],
   "source": [
    "means = [float(val) for val in result['predictions'][0]['mean']]\n",
    "q_01 = [float(val) for val in result['predictions'][0]['quantiles']['0.1']]\n",
    "q_05 = [float(val) for val in result['predictions'][0]['quantiles']['0.5']]\n",
    "q_09 = [float(val) for val in result['predictions'][0]['quantiles']['0.9']]\n",
    "index = [1,2]"
   ]
  },
  {
   "cell_type": "code",
   "execution_count": 154,
   "metadata": {},
   "outputs": [
    {
     "data": {
      "text/plain": [
       "Text(0.5, 0, 'Prediction')"
      ]
     },
     "execution_count": 154,
     "metadata": {},
     "output_type": "execute_result"
    },
    {
     "data": {
      "image/png": "[encoded data removed]",
      "text/plain": [
       "<Figure size 640x480 with 1 Axes>"
      ]
     },
     "metadata": {},
     "output_type": "display_data"
    }
   ],
   "source": [
    "plt.plot(index, means)\n",
    "plt.plot(index, q_01)\n",
    "plt.plot(index, q_05)\n",
    "plt.plot(index, q_09)\n",
    "plt.title(\"0.1, 0.5, 0.9 Quantile and Mean Preictions\")\n",
    "plt.ylabel(\"Median Housing Price\")\n",
    "plt.xlabel(\"Prediction\")"
   ]
  },
  {
   "cell_type": "code",
   "execution_count": 133,
   "metadata": {},
   "outputs": [],
   "source": [
    "index = [val for val in nelson_qrtly.index]\n",
    "index.append(index[-1] + (pd.tseries.offsets.MonthEnd() * 3))\n",
    "index.append(index[-1] + (pd.tseries.offsets.MonthEnd() * 3))"
   ]
  },
  {
   "cell_type": "code",
   "execution_count": 148,
   "metadata": {},
   "outputs": [
    {
     "data": {
      "text/plain": [
       "Text(0.5, 1.0, 'Forecast Horizon for Median House price in NZ')"
      ]
     },
     "execution_count": 148,
     "metadata": {},
     "output_type": "execute_result"
    },
    {
     "data": {
      "image/png": "[encoded data removed]",
      "text/plain": [
       "<Figure size 640x480 with 1 Axes>"
      ]
     },
     "metadata": {},
     "output_type": "display_data"
    }
   ],
   "source": [
    "plt.plot(index[100:-2], nelson_qrtly[100:].apply(np.mean, axis=1))\n",
    "plt.plot(index[-2:], q_01)\n",
    "plt.plot(index[-2:], q_05)\n",
    "plt.plot(index[-2:], q_09)\n",
    "plt.plot(index[-2:], means)\n",
    "plt.xlabel(\"Quarter\")\n",
    "plt.ylabel(\"Median House Price\")\n",
    "plt.title(\"Forecast Horizon for Median House price in NZ\")"
   ]
  },
  {
   "cell_type": "markdown",
   "metadata": {},
   "source": [
    "---"
   ]
  },
  {
   "cell_type": "markdown",
   "metadata": {},
   "source": [
    "The data will now be converted to 2-Monthly intervals"
   ]
  },
  {
   "cell_type": "code",
   "execution_count": 159,
   "metadata": {},
   "outputs": [],
   "source": [
    "def months_to_2months(df):\n",
    "    \n",
    "    df = df[['Nelson']]\n",
    "    df.rename(columns={'Nelson':'First_Month'}, inplace=True)\n",
    "    df['Second_Month'] = None\n",
    "    for i in range(1, len(df), 2):\n",
    "        f_month = df.loc[df.index[i-1],\"First_Month\"]\n",
    "        df.loc[df.index[i], \"Second_Month\"] = df.loc[df.index[i], \"First_Month\"]\n",
    "        df.loc[df.index[i], \"First_Month\"] = f_month\n",
    "    return df.dropna()"
   ]
  },
  {
   "cell_type": "code",
   "execution_count": 163,
   "metadata": {},
   "outputs": [],
   "source": [
    "nelson_bimonthly = months_to_2months(nelson.copy())"
   ]
  },
  {
   "cell_type": "code",
   "execution_count": 164,
   "metadata": {},
   "outputs": [
    {
     "data": {
      "text/html": [
       "<div>\n",
       "<style scoped>\n",
       "    .dataframe tbody tr th:only-of-type {\n",
       "        vertical-align: middle;\n",
       "    }\n",
       "\n",
       "    .dataframe tbody tr th {\n",
       "        vertical-align: top;\n",
       "    }\n",
       "\n",
       "    .dataframe thead th {\n",
       "        text-align: right;\n",
       "    }\n",
       "</style>\n",
       "<table border=\"1\" class=\"dataframe\">\n",
       "  <thead>\n",
       "    <tr style=\"text-align: right;\">\n",
       "      <th></th>\n",
       "      <th>First_Month</th>\n",
       "      <th>Second_Month</th>\n",
       "    </tr>\n",
       "    <tr>\n",
       "      <th>date</th>\n",
       "      <th></th>\n",
       "      <th></th>\n",
       "    </tr>\n",
       "  </thead>\n",
       "  <tbody>\n",
       "    <tr>\n",
       "      <th>1992-02-29</th>\n",
       "      <td>115000.0</td>\n",
       "      <td>108000.0</td>\n",
       "    </tr>\n",
       "    <tr>\n",
       "      <th>1992-04-30</th>\n",
       "      <td>115000.0</td>\n",
       "      <td>116000.0</td>\n",
       "    </tr>\n",
       "    <tr>\n",
       "      <th>1992-06-30</th>\n",
       "      <td>115000.0</td>\n",
       "      <td>107000.0</td>\n",
       "    </tr>\n",
       "    <tr>\n",
       "      <th>1992-08-31</th>\n",
       "      <td>118000.0</td>\n",
       "      <td>116000.0</td>\n",
       "    </tr>\n",
       "    <tr>\n",
       "      <th>1992-10-31</th>\n",
       "      <td>120000.0</td>\n",
       "      <td>115000.0</td>\n",
       "    </tr>\n",
       "  </tbody>\n",
       "</table>\n",
       "</div>"
      ],
      "text/plain": [
       "            First_Month Second_Month\n",
       "date                                \n",
       "1992-02-29     115000.0     108000.0\n",
       "1992-04-30     115000.0     116000.0\n",
       "1992-06-30     115000.0     107000.0\n",
       "1992-08-31     118000.0     116000.0\n",
       "1992-10-31     120000.0     115000.0"
      ]
     },
     "execution_count": 164,
     "metadata": {},
     "output_type": "execute_result"
    }
   ],
   "source": [
    "nelson_bimonthly.head(5)"
   ]
  },
  {
   "cell_type": "code",
   "execution_count": 165,
   "metadata": {},
   "outputs": [],
   "source": [
    "train, test = train_test_split(nelson_bimonthly, \n",
    "                                            test_size=0.2, \n",
    "                                            random_state=42)"
   ]
  },
  {
   "cell_type": "code",
   "execution_count": 166,
   "metadata": {},
   "outputs": [
    {
     "name": "stderr",
     "output_type": "stream",
     "text": [
      "INFO:botocore.credentials:Found credentials from IAM Role: BaseNotebookInstanceEc2InstanceRole\n"
     ]
    }
   ],
   "source": [
    "bucket='c125236a3097401l7344380t1w4575200910-sandboxbucket-6het1vfa8iyd'\n",
    "prefix='assignment3'\n",
    "train_file='train_bi.json'\n",
    "test_file='test_bi.json'\n",
    "whole_file='whole_bi.json'\n",
    "s3_resource = boto3.Session().resource('s3')"
   ]
  },
  {
   "cell_type": "code",
   "execution_count": 167,
   "metadata": {},
   "outputs": [],
   "source": [
    "upload_s3_json(train_file, 'train', train)\n",
    "upload_s3_json(test_file, 'test', test)"
   ]
  },
  {
   "cell_type": "code",
   "execution_count": 168,
   "metadata": {},
   "outputs": [
    {
     "name": "stderr",
     "output_type": "stream",
     "text": [
      "INFO:sagemaker.image_uris:Same images used for training and inference. Defaulting to image scope: inference.\n",
      "INFO:sagemaker.image_uris:Defaulting to the only supported framework/algorithm version: 1.\n",
      "INFO:sagemaker.image_uris:Ignoring unnecessary instance type: None.\n"
     ]
    }
   ],
   "source": [
    "role=sagemaker.get_execution_role()\n",
    "s3_output_location=\"s3://{}/{}/output/\".format(bucket,prefix)\n",
    "container = image_uris.retrieve(framework='forecasting-deepar', region=boto3.Session().region_name)"
   ]
  },
  {
   "cell_type": "code",
   "execution_count": 169,
   "metadata": {},
   "outputs": [
    {
     "data": {
      "text/plain": [
       "'522234722520.dkr.ecr.us-east-1.amazonaws.com/forecasting-deepar:1'"
      ]
     },
     "execution_count": 169,
     "metadata": {},
     "output_type": "execute_result"
    }
   ],
   "source": [
    "container"
   ]
  },
  {
   "cell_type": "code",
   "execution_count": 174,
   "metadata": {},
   "outputs": [],
   "source": [
    "hyperparams={\n",
    "    \"time_freq\":\"2M\",\n",
    "    \"context_length\":\"1\",\n",
    "    \"prediction_length\":\"1\",\n",
    "    \"epochs\":\"100\"}"
   ]
  },
  {
   "cell_type": "code",
   "execution_count": 175,
   "metadata": {},
   "outputs": [],
   "source": [
    "deep_ar=sagemaker.estimator.Estimator(container,\n",
    "                                        role,\n",
    "                                        instance_count=1,\n",
    "                                        instance_type='ml.m5.xlarge',\n",
    "                                        output_path=s3_output_location,\n",
    "                                        hyperparameters=hyperparams,\n",
    "                                        sagemaker_session=sagemaker.Session())"
   ]
  },
  {
   "cell_type": "code",
   "execution_count": 176,
   "metadata": {},
   "outputs": [],
   "source": [
    "train_channel = sagemaker.inputs.TrainingInput(\n",
    "    \"s3://{}/{}/train/\".format(bucket,prefix,train_file),\n",
    "    content_type='json')\n",
    "\n",
    "test_channel = sagemaker.inputs.TrainingInput(\n",
    "    \"s3://{}/{}/validate/\".format(bucket,prefix,test_file),\n",
    "    content_type='json')\n",
    "\n",
    "data_channels = {'train': train_channel, 'test': test_channel}"
   ]
  },
  {
   "cell_type": "code",
   "execution_count": 177,
   "metadata": {},
   "outputs": [
    {
     "name": "stderr",
     "output_type": "stream",
     "text": [
      "INFO:sagemaker:Creating training-job with name: forecasting-deepar-2024-10-10-00-37-27-039\n"
     ]
    },
    {
     "name": "stdout",
     "output_type": "stream",
     "text": [
      "\n",
      "2024-10-10 00:37:28 Starting - Starting the training job..\n",
      "2024-10-10 00:37:44 Starting - Preparing the instances for training....\n",
      "2024-10-10 00:38:11 Downloading - Downloading input data.....\n",
      "2024-10-10 00:38:41 Downloading - Downloading the training image............\n",
      "2024-10-10 00:39:47 Training - Training image download completed. Training in progress..........\n",
      "2024-10-10 00:40:37 Uploading - Uploading generated training model..\n",
      "2024-10-10 00:40:50 Completed - Training job completed\n"
     ]
    }
   ],
   "source": [
    "deep_ar.fit(inputs=data_channels, logs=False)"
   ]
  },
  {
   "cell_type": "code",
   "execution_count": 179,
   "metadata": {},
   "outputs": [
    {
     "data": {
      "text/html": [
       "<div>\n",
       "<style scoped>\n",
       "    .dataframe tbody tr th:only-of-type {\n",
       "        vertical-align: middle;\n",
       "    }\n",
       "\n",
       "    .dataframe tbody tr th {\n",
       "        vertical-align: top;\n",
       "    }\n",
       "\n",
       "    .dataframe thead th {\n",
       "        text-align: right;\n",
       "    }\n",
       "</style>\n",
       "<table border=\"1\" class=\"dataframe\">\n",
       "  <thead>\n",
       "    <tr style=\"text-align: right;\">\n",
       "      <th></th>\n",
       "      <th>First_Month</th>\n",
       "      <th>Second_Month</th>\n",
       "    </tr>\n",
       "    <tr>\n",
       "      <th>date</th>\n",
       "      <th></th>\n",
       "      <th></th>\n",
       "    </tr>\n",
       "  </thead>\n",
       "  <tbody>\n",
       "    <tr>\n",
       "      <th>2023-12-31</th>\n",
       "      <td>650000.0</td>\n",
       "      <td>710000.0</td>\n",
       "    </tr>\n",
       "    <tr>\n",
       "      <th>2024-02-29</th>\n",
       "      <td>675000.0</td>\n",
       "      <td>732500.0</td>\n",
       "    </tr>\n",
       "    <tr>\n",
       "      <th>2024-04-30</th>\n",
       "      <td>722000.0</td>\n",
       "      <td>705000.0</td>\n",
       "    </tr>\n",
       "    <tr>\n",
       "      <th>2024-06-30</th>\n",
       "      <td>670000.0</td>\n",
       "      <td>648000.0</td>\n",
       "    </tr>\n",
       "    <tr>\n",
       "      <th>2024-08-31</th>\n",
       "      <td>657000.0</td>\n",
       "      <td>693000.0</td>\n",
       "    </tr>\n",
       "  </tbody>\n",
       "</table>\n",
       "</div>"
      ],
      "text/plain": [
       "            First_Month Second_Month\n",
       "date                                \n",
       "2023-12-31     650000.0     710000.0\n",
       "2024-02-29     675000.0     732500.0\n",
       "2024-04-30     722000.0     705000.0\n",
       "2024-06-30     670000.0     648000.0\n",
       "2024-08-31     657000.0     693000.0"
      ]
     },
     "execution_count": 179,
     "metadata": {},
     "output_type": "execute_result"
    }
   ],
   "source": [
    "nelson_bimonthly.tail(5)"
   ]
  },
  {
   "cell_type": "code",
   "execution_count": 180,
   "metadata": {},
   "outputs": [],
   "source": [
    "sagemaker_session = sagemaker.Session()\n",
    "predictor = Predictor(endpoint_name='deep-ar-100-bi', sagemaker_session=sagemaker_session)"
   ]
  },
  {
   "cell_type": "code",
   "execution_count": 181,
   "metadata": {},
   "outputs": [],
   "source": [
    "data = {\n",
    "    \"instances\": [\n",
    "        {\n",
    "            \"start\": \"2024-08-31 00:00:00\",\n",
    "            \"target\": [657000.0, 693000.0],\n",
    "        }\n",
    "    ],\n",
    "    \"configuration\": {\n",
    "        \"num_samples\": 100,\n",
    "        \"output_types\": [\"mean\", \"quantiles\"],\n",
    "        \"quantiles\": [\"0.1\", \"0.5\", \"0.9\"]\n",
    "    }\n",
    "}\n",
    "\n",
    "payload = json.dumps(data)\n",
    "response = predictor.predict(payload, initial_args={\"ContentType\": \"application/json\"})"
   ]
  },
  {
   "cell_type": "code",
   "execution_count": 182,
   "metadata": {},
   "outputs": [],
   "source": [
    "result = json.loads(response.decode('utf-8'))"
   ]
  },
  {
   "cell_type": "code",
   "execution_count": 198,
   "metadata": {},
   "outputs": [],
   "source": [
    "means = []\n",
    "means.append(nelson_bimonthly[-1:].apply(np.mean, axis=1).values[0])\n",
    "temp = [float(val) for val in result['predictions'][0]['mean']]\n",
    "means.append(temp[0])"
   ]
  },
  {
   "cell_type": "code",
   "execution_count": 201,
   "metadata": {},
   "outputs": [],
   "source": [
    "index = [val for val in nelson_bimonthly.index]\n",
    "index.append(index[-1] + (pd.tseries.offsets.MonthEnd() * 2))"
   ]
  },
  {
   "cell_type": "code",
   "execution_count": 204,
   "metadata": {},
   "outputs": [
    {
     "data": {
      "text/plain": [
       "Text(0.5, 1.0, 'Forecast Horizon for Median House price in NZ')"
      ]
     },
     "execution_count": 204,
     "metadata": {},
     "output_type": "execute_result"
    },
    {
     "data": {
      "image/png": "[encoded data removed]",
      "text/plain": [
       "<Figure size 640x480 with 1 Axes>"
      ]
     },
     "metadata": {},
     "output_type": "display_data"
    }
   ],
   "source": [
    "plt.plot(index[150:-1], nelson_bimonthly[150:].apply(np.mean, axis=1))\n",
    "plt.plot(index[-2:], means)\n",
    "plt.xlabel(\"Quarter\")\n",
    "plt.ylabel(\"Median House Price\")\n",
    "plt.title(\"Forecast Horizon for Median House price in NZ\")"
   ]
  },
  {
   "cell_type": "markdown",
   "metadata": {},
   "source": [
    "### Metrics"
   ]
  },
  {
   "cell_type": "code",
   "execution_count": 221,
   "metadata": {},
   "outputs": [],
   "source": [
    "def get_predictions(df):\n",
    "    predictions = []\n",
    "    for i in range(len(df)-1):\n",
    "        data = {\n",
    "            \"instances\": [\n",
    "                {\n",
    "                    \"start\": df.index[i].isoformat(),\n",
    "                    \"target\": [val for val in df.iloc[i]],\n",
    "                }\n",
    "            ],\n",
    "            \"configuration\": {\n",
    "                \"num_samples\": 100,\n",
    "                \"output_types\": [\"mean\", \"quantiles\"],\n",
    "                \"quantiles\": [\"0.1\", \"0.5\", \"0.9\"]\n",
    "            }\n",
    "        }\n",
    "\n",
    "        payload = json.dumps(data)\n",
    "        response = predictor.predict(payload, initial_args={\"ContentType\": \"application/json\"})\n",
    "        result = json.loads(response.decode('utf-8'))\n",
    "        pred = [float(val) for val in result['predictions'][0]['mean']]\n",
    "        \n",
    "        predictions.append(pred[0])\n",
    "        \n",
    "    return predictions"
   ]
  },
  {
   "cell_type": "code",
   "execution_count": 222,
   "metadata": {},
   "outputs": [],
   "source": [
    "predictions = get_predictions(nelson_bimonthly.copy())"
   ]
  },
  {
   "cell_type": "code",
   "execution_count": 230,
   "metadata": {},
   "outputs": [],
   "source": [
    "predictions = pd.DataFrame(predictions, index=nelson_bimonthly.index[1:], columns=[\"predictions\"])"
   ]
  },
  {
   "cell_type": "code",
   "execution_count": 234,
   "metadata": {},
   "outputs": [],
   "source": [
    "actual = nelson_bimonthly[1:].apply(np.mean, axis=1)"
   ]
  },
  {
   "cell_type": "code",
   "execution_count": 237,
   "metadata": {},
   "outputs": [
    {
     "name": "stdout",
     "output_type": "stream",
     "text": [
      "MSE: 546125232.9963598\n",
      "RMSE: 23369.322476194295\n",
      "MAE: 17212.46045673076\n",
      "MDAE: 12926.687500000116\n"
     ]
    }
   ],
   "source": [
    "mse = mean_squared_error(predictions.predictions, actual.values)\n",
    "rmse = root_mean_squared_error(predictions.predictions, actual.values)\n",
    "mae = mean_absolute_error(predictions.predictions, actual.values)\n",
    "mdae = median_absolute_error(predictions.predictions, actual.values)\n",
    "print(f'MSE: {mse}')\n",
    "print(f'RMSE: {rmse}')\n",
    "print(f'MAE: {mae}')\n",
    "print(f'MDAE: {mdae}')"
   ]
  },
  {
   "cell_type": "code",
   "execution_count": 238,
   "metadata": {},
   "outputs": [
    {
     "data": {
      "text/plain": [
       "[<matplotlib.lines.Line2D at 0x7f6ea877b250>]"
      ]
     },
     "execution_count": 238,
     "metadata": {},
     "output_type": "execute_result"
    },
    {
     "data": {
      "image/png": "[encoded data removed]",
      "text/plain": [
       "<Figure size 640x480 with 1 Axes>"
      ]
     },
     "metadata": {},
     "output_type": "display_data"
    }
   ],
   "source": [
    "plt.plot(predictions.index, predictions.predictions)\n",
    "plt.plot(predictions.index, actual.values)"
   ]
  },
  {
   "cell_type": "markdown",
   "metadata": {},
   "source": [
    "---"
   ]
  },
  {
   "cell_type": "markdown",
   "metadata": {},
   "source": [
    "### Conclusion"
   ]
  },
  {
   "cell_type": "markdown",
   "metadata": {},
   "source": [
    "The two month data shows far better ability to predict the mean at an appropriate value. Furthermore, the prediction seems realistic and appears to predict a probably trend. The downside to this model is it can only extrapolate out two months, meaning the forecast horizon will only ever be two months into the future.\n",
    "\n",
    "It's unfortunate this model couldn't be used in deployment, or in our app for example, as it's possible train this algorithm further, or performing hyperparameter tuning could lead to a very good model."
   ]
  },
  {
   "cell_type": "code",
   "execution_count": null,
   "metadata": {},
   "outputs": [],
   "source": []
  }
 ],
 "metadata": {
  "kernelspec": {
   "display_name": "conda_python3",
   "language": "python",
   "name": "conda_python3"
  },
  "language_info": {
   "codemirror_mode": {
    "name": "ipython",
    "version": 3
   },
   "file_extension": ".py",
   "mimetype": "text/x-python",
   "name": "python",
   "nbconvert_exporter": "python",
   "pygments_lexer": "ipython3",
   "version": "3.10.14"
  }
 },
 "nbformat": 4,
 "nbformat_minor": 4
}
